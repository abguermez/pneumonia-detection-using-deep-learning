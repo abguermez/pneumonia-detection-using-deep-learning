{
 "cells": [
  {
   "cell_type": "markdown",
   "id": "listed-pitch",
   "metadata": {
    "papermill": {
     "duration": 0.019838,
     "end_time": "2021-06-02T17:23:25.205375",
     "exception": false,
     "start_time": "2021-06-02T17:23:25.185537",
     "status": "completed"
    },
    "tags": []
   },
   "source": [
    "# **Import Relevant Libraries**"
   ]
  },
  {
   "cell_type": "code",
   "execution_count": 1,
   "id": "7ca82796",
   "metadata": {},
   "outputs": [],
   "source": [
    "from tensorflow.compat.v1 import ConfigProto\n",
    "from tensorflow.compat.v1 import InteractiveSession\n",
    "config = ConfigProto()\n",
    "config.gpu_options.allow_growth = True\n",
    "session = InteractiveSession(config=config)"
   ]
  },
  {
   "cell_type": "code",
   "execution_count": 2,
   "id": "special-bolivia",
   "metadata": {
    "_cell_guid": "b1076dfc-b9ad-4769-8c92-a6c4dae69d19",
    "_uuid": "8f2839f25d086af736a60e9eeb907d3b93b6e0e5",
    "execution": {
     "iopub.execute_input": "2021-06-02T17:23:25.254997Z",
     "iopub.status.busy": "2021-06-02T17:23:25.254340Z",
     "iopub.status.idle": "2021-06-02T17:23:30.894083Z",
     "shell.execute_reply": "2021-06-02T17:23:30.893083Z",
     "shell.execute_reply.started": "2021-06-02T16:23:04.916737Z"
    },
    "papermill": {
     "duration": 5.670291,
     "end_time": "2021-06-02T17:23:30.894254",
     "exception": false,
     "start_time": "2021-06-02T17:23:25.223963",
     "status": "completed"
    },
    "tags": []
   },
   "outputs": [],
   "source": [
    "import os\n",
    "import cv2\n",
    "\n",
    "import tensorflow as tf\n",
    "from tensorflow import keras\n",
    "from tensorflow.keras.optimizers import Adam\n",
    "from tensorflow.keras.preprocessing.image import ImageDataGenerator\n",
    "\n",
    "import numpy as np\n",
    "import pandas as pd\n",
    "import matplotlib.pyplot as plt\n",
    "\n",
    "from sklearn.model_selection import train_test_split\n",
    "from sklearn.metrics import confusion_matrix, classification_report"
   ]
  },
  {
   "cell_type": "code",
   "execution_count": 3,
   "id": "b908c94e",
   "metadata": {},
   "outputs": [],
   "source": [
    "AUTO = tf.data.experimental.AUTOTUNE"
   ]
  },
  {
   "cell_type": "markdown",
   "id": "polished-speaker",
   "metadata": {
    "papermill": {
     "duration": 0.0179,
     "end_time": "2021-06-02T17:23:30.931210",
     "exception": false,
     "start_time": "2021-06-02T17:23:30.913310",
     "status": "completed"
    },
    "tags": []
   },
   "source": [
    "# **Creating Train and Test Dataframes**"
   ]
  },
  {
   "cell_type": "code",
   "execution_count": 4,
   "id": "rental-birthday",
   "metadata": {
    "execution": {
     "iopub.execute_input": "2021-06-02T17:23:30.981771Z",
     "iopub.status.busy": "2021-06-02T17:23:30.981161Z",
     "iopub.status.idle": "2021-06-02T17:23:31.045586Z",
     "shell.execute_reply": "2021-06-02T17:23:31.044899Z",
     "shell.execute_reply.started": "2021-06-02T16:23:08.898538Z"
    },
    "papermill": {
     "duration": 0.09601,
     "end_time": "2021-06-02T17:23:31.045727",
     "exception": false,
     "start_time": "2021-06-02T17:23:30.949717",
     "status": "completed"
    },
    "tags": []
   },
   "outputs": [],
   "source": [
    "df = pd.read_csv('dict.csv', sep=\",\",header=None)\n",
    "df['image']=df[0]\n",
    "df['label']=df[1]"
   ]
  },
  {
   "cell_type": "code",
   "execution_count": 5,
   "id": "hired-degree",
   "metadata": {
    "execution": {
     "iopub.execute_input": "2021-06-02T17:23:31.091787Z",
     "iopub.status.busy": "2021-06-02T17:23:31.090844Z",
     "iopub.status.idle": "2021-06-02T17:23:31.098238Z",
     "shell.execute_reply": "2021-06-02T17:23:31.098678Z",
     "shell.execute_reply.started": "2021-06-02T16:23:12.082066Z"
    },
    "papermill": {
     "duration": 0.034664,
     "end_time": "2021-06-02T17:23:31.098808",
     "exception": false,
     "start_time": "2021-06-02T17:23:31.064144",
     "status": "completed"
    },
    "tags": []
   },
   "outputs": [
    {
     "data": {
      "text/html": [
       "<div>\n",
       "<style scoped>\n",
       "    .dataframe tbody tr th:only-of-type {\n",
       "        vertical-align: middle;\n",
       "    }\n",
       "\n",
       "    .dataframe tbody tr th {\n",
       "        vertical-align: top;\n",
       "    }\n",
       "\n",
       "    .dataframe thead th {\n",
       "        text-align: right;\n",
       "    }\n",
       "</style>\n",
       "<table border=\"1\" class=\"dataframe\">\n",
       "  <thead>\n",
       "    <tr style=\"text-align: right;\">\n",
       "      <th></th>\n",
       "      <th>0</th>\n",
       "      <th>1</th>\n",
       "      <th>image</th>\n",
       "      <th>label</th>\n",
       "    </tr>\n",
       "  </thead>\n",
       "  <tbody>\n",
       "    <tr>\n",
       "      <th>0</th>\n",
       "      <td>new_data0.jpeg</td>\n",
       "      <td>normal</td>\n",
       "      <td>new_data0.jpeg</td>\n",
       "      <td>normal</td>\n",
       "    </tr>\n",
       "    <tr>\n",
       "      <th>1</th>\n",
       "      <td>new_data1.jpeg</td>\n",
       "      <td>normal</td>\n",
       "      <td>new_data1.jpeg</td>\n",
       "      <td>normal</td>\n",
       "    </tr>\n",
       "    <tr>\n",
       "      <th>2</th>\n",
       "      <td>new_data2.jpeg</td>\n",
       "      <td>normal</td>\n",
       "      <td>new_data2.jpeg</td>\n",
       "      <td>normal</td>\n",
       "    </tr>\n",
       "    <tr>\n",
       "      <th>3</th>\n",
       "      <td>new_data3.jpeg</td>\n",
       "      <td>normal</td>\n",
       "      <td>new_data3.jpeg</td>\n",
       "      <td>normal</td>\n",
       "    </tr>\n",
       "    <tr>\n",
       "      <th>4</th>\n",
       "      <td>new_data4.jpeg</td>\n",
       "      <td>normal</td>\n",
       "      <td>new_data4.jpeg</td>\n",
       "      <td>normal</td>\n",
       "    </tr>\n",
       "  </tbody>\n",
       "</table>\n",
       "</div>"
      ],
      "text/plain": [
       "                0       1           image   label\n",
       "0  new_data0.jpeg  normal  new_data0.jpeg  normal\n",
       "1  new_data1.jpeg  normal  new_data1.jpeg  normal\n",
       "2  new_data2.jpeg  normal  new_data2.jpeg  normal\n",
       "3  new_data3.jpeg  normal  new_data3.jpeg  normal\n",
       "4  new_data4.jpeg  normal  new_data4.jpeg  normal"
      ]
     },
     "execution_count": 5,
     "metadata": {},
     "output_type": "execute_result"
    }
   ],
   "source": [
    "df.head()"
   ]
  },
  {
   "cell_type": "code",
   "execution_count": 6,
   "id": "8842ed01",
   "metadata": {},
   "outputs": [],
   "source": [
    "data=df[['image','label']]"
   ]
  },
  {
   "cell_type": "code",
   "execution_count": 7,
   "id": "dc79a8e2",
   "metadata": {},
   "outputs": [
    {
     "data": {
      "text/html": [
       "<div>\n",
       "<style scoped>\n",
       "    .dataframe tbody tr th:only-of-type {\n",
       "        vertical-align: middle;\n",
       "    }\n",
       "\n",
       "    .dataframe tbody tr th {\n",
       "        vertical-align: top;\n",
       "    }\n",
       "\n",
       "    .dataframe thead th {\n",
       "        text-align: right;\n",
       "    }\n",
       "</style>\n",
       "<table border=\"1\" class=\"dataframe\">\n",
       "  <thead>\n",
       "    <tr style=\"text-align: right;\">\n",
       "      <th></th>\n",
       "      <th>image</th>\n",
       "      <th>label</th>\n",
       "    </tr>\n",
       "  </thead>\n",
       "  <tbody>\n",
       "    <tr>\n",
       "      <th>0</th>\n",
       "      <td>new_data0.jpeg</td>\n",
       "      <td>normal</td>\n",
       "    </tr>\n",
       "    <tr>\n",
       "      <th>1</th>\n",
       "      <td>new_data1.jpeg</td>\n",
       "      <td>normal</td>\n",
       "    </tr>\n",
       "    <tr>\n",
       "      <th>2</th>\n",
       "      <td>new_data2.jpeg</td>\n",
       "      <td>normal</td>\n",
       "    </tr>\n",
       "    <tr>\n",
       "      <th>3</th>\n",
       "      <td>new_data3.jpeg</td>\n",
       "      <td>normal</td>\n",
       "    </tr>\n",
       "    <tr>\n",
       "      <th>4</th>\n",
       "      <td>new_data4.jpeg</td>\n",
       "      <td>normal</td>\n",
       "    </tr>\n",
       "  </tbody>\n",
       "</table>\n",
       "</div>"
      ],
      "text/plain": [
       "            image   label\n",
       "0  new_data0.jpeg  normal\n",
       "1  new_data1.jpeg  normal\n",
       "2  new_data2.jpeg  normal\n",
       "3  new_data3.jpeg  normal\n",
       "4  new_data4.jpeg  normal"
      ]
     },
     "execution_count": 7,
     "metadata": {},
     "output_type": "execute_result"
    }
   ],
   "source": [
    "data.head()"
   ]
  },
  {
   "cell_type": "code",
   "execution_count": 8,
   "id": "dd816a33",
   "metadata": {},
   "outputs": [
    {
     "data": {
      "text/plain": [
       "(5856, 2)"
      ]
     },
     "execution_count": 8,
     "metadata": {},
     "output_type": "execute_result"
    }
   ],
   "source": [
    "data.shape\n"
   ]
  },
  {
   "cell_type": "code",
   "execution_count": 9,
   "id": "fb7dd7f3",
   "metadata": {},
   "outputs": [
    {
     "data": {
      "text/plain": [
       "PNEUMONIA    4273\n",
       "normal       1583\n",
       "Name: label, dtype: int64"
      ]
     },
     "execution_count": 9,
     "metadata": {},
     "output_type": "execute_result"
    }
   ],
   "source": [
    "data['label'].value_counts()"
   ]
  },
  {
   "cell_type": "code",
   "execution_count": 10,
   "id": "170288da",
   "metadata": {},
   "outputs": [
    {
     "data": {
      "text/plain": [
       "<AxesSubplot:>"
      ]
     },
     "execution_count": 10,
     "metadata": {},
     "output_type": "execute_result"
    },
    {
     "data": {
      "image/png": "[encoded data removed]",
      "text/plain": [
       "<Figure size 432x288 with 1 Axes>"
      ]
     },
     "metadata": {
      "needs_background": "light"
     },
     "output_type": "display_data"
    }
   ],
   "source": [
    "data['label'].value_counts().plot(kind = 'bar',color=['cyan', 'teal'])"
   ]
  },
  {
   "cell_type": "code",
   "execution_count": null,
   "id": "c64f9fde",
   "metadata": {},
   "outputs": [],
   "source": []
  },
  {
   "cell_type": "code",
   "execution_count": 11,
   "id": "b18da8ee",
   "metadata": {},
   "outputs": [
    {
     "name": "stdout",
     "output_type": "stream",
     "text": [
      "normal       1583\n",
      "PNEUMONIA    1583\n",
      "Name: label, dtype: int64\n",
      "3166\n"
     ]
    }
   ],
   "source": [
    "file_count = 1583\n",
    "samples = []\n",
    "for category in data['label'].unique():    \n",
    "    category_slice = data.query(\"label == @category\")    \n",
    "    samples.append(category_slice.sample(file_count, replace=False,random_state=1))\n",
    "data = pd.concat(samples, axis=0).sample(frac=1.0, random_state=1).reset_index(drop=True)\n",
    "print ( data['label'].value_counts())\n",
    "print (len(data))"
   ]
  },
  {
   "cell_type": "code",
   "execution_count": 12,
   "id": "8e505ffd",
   "metadata": {},
   "outputs": [
    {
     "data": {
      "text/html": [
       "<div>\n",
       "<style scoped>\n",
       "    .dataframe tbody tr th:only-of-type {\n",
       "        vertical-align: middle;\n",
       "    }\n",
       "\n",
       "    .dataframe tbody tr th {\n",
       "        vertical-align: top;\n",
       "    }\n",
       "\n",
       "    .dataframe thead th {\n",
       "        text-align: right;\n",
       "    }\n",
       "</style>\n",
       "<table border=\"1\" class=\"dataframe\">\n",
       "  <thead>\n",
       "    <tr style=\"text-align: right;\">\n",
       "      <th></th>\n",
       "      <th>image</th>\n",
       "      <th>label</th>\n",
       "      <th>PNEUMONIA</th>\n",
       "      <th>normal</th>\n",
       "    </tr>\n",
       "  </thead>\n",
       "  <tbody>\n",
       "    <tr>\n",
       "      <th>0</th>\n",
       "      <td>new_data385.jpeg</td>\n",
       "      <td>normal</td>\n",
       "      <td>0</td>\n",
       "      <td>1</td>\n",
       "    </tr>\n",
       "    <tr>\n",
       "      <th>1</th>\n",
       "      <td>new_data4745.jpeg</td>\n",
       "      <td>PNEUMONIA</td>\n",
       "      <td>1</td>\n",
       "      <td>0</td>\n",
       "    </tr>\n",
       "    <tr>\n",
       "      <th>2</th>\n",
       "      <td>new_data343.jpeg</td>\n",
       "      <td>normal</td>\n",
       "      <td>0</td>\n",
       "      <td>1</td>\n",
       "    </tr>\n",
       "    <tr>\n",
       "      <th>3</th>\n",
       "      <td>new_data3951.jpeg</td>\n",
       "      <td>PNEUMONIA</td>\n",
       "      <td>1</td>\n",
       "      <td>0</td>\n",
       "    </tr>\n",
       "    <tr>\n",
       "      <th>4</th>\n",
       "      <td>new_data3738.jpeg</td>\n",
       "      <td>PNEUMONIA</td>\n",
       "      <td>1</td>\n",
       "      <td>0</td>\n",
       "    </tr>\n",
       "  </tbody>\n",
       "</table>\n",
       "</div>"
      ],
      "text/plain": [
       "               image      label  PNEUMONIA  normal\n",
       "0   new_data385.jpeg     normal          0       1\n",
       "1  new_data4745.jpeg  PNEUMONIA          1       0\n",
       "2   new_data343.jpeg     normal          0       1\n",
       "3  new_data3951.jpeg  PNEUMONIA          1       0\n",
       "4  new_data3738.jpeg  PNEUMONIA          1       0"
      ]
     },
     "execution_count": 12,
     "metadata": {},
     "output_type": "execute_result"
    }
   ],
   "source": [
    "a=data.copy()\n",
    "a=pd.get_dummies(data['label'])\n",
    "df1=pd.concat([data, a], axis=1)\n",
    "df1.head()"
   ]
  },
  {
   "cell_type": "code",
   "execution_count": 13,
   "id": "7b04515e",
   "metadata": {},
   "outputs": [
    {
     "data": {
      "text/plain": [
       "(3166, 3)"
      ]
     },
     "execution_count": 13,
     "metadata": {},
     "output_type": "execute_result"
    }
   ],
   "source": [
    "df1.drop(columns='label', inplace=True)\n",
    "df1.shape"
   ]
  },
  {
   "cell_type": "code",
   "execution_count": 18,
   "id": "b1d52b29",
   "metadata": {},
   "outputs": [
    {
     "name": "stderr",
     "output_type": "stream",
     "text": [
      "C:\\Users\\asus\\AppData\\Local\\Temp/ipykernel_41904/60640882.py:1: FutureWarning: Dropping of nuisance columns in DataFrame reductions (with 'numeric_only=None') is deprecated; in a future version this will raise TypeError.  Select only valid columns before calling the reduction.\n",
      "  pcts=df1.mean()\n"
     ]
    },
    {
     "data": {
      "text/plain": [
       "<AxesSubplot:ylabel='None'>"
      ]
     },
     "execution_count": 18,
     "metadata": {},
     "output_type": "execute_result"
    },
    {
     "data": {
      "image/png": "[encoded data removed]",
      "text/plain": [
       "<Figure size 432x288 with 1 Axes>"
      ]
     },
     "metadata": {},
     "output_type": "display_data"
    }
   ],
   "source": [
    "pcts=df1.mean()\n",
    "\n",
    "pcts.plot(kind = 'pie',autopct='%1.2f%%',colors=['green','lime'])"
   ]
  },
  {
   "cell_type": "markdown",
   "id": "12b2ae2f",
   "metadata": {},
   "source": [
    "# split"
   ]
  },
  {
   "cell_type": "code",
   "execution_count": 193,
   "id": "8586e2d3",
   "metadata": {},
   "outputs": [
    {
     "data": {
      "text/plain": [
       "array(['path/new_data385.jpeg', 'path/new_data4745.jpeg',\n",
       "       'path/new_data343.jpeg', ..., 'path/new_data1076.jpeg',\n",
       "       'path/new_data3.jpeg', 'path/new_data412.jpeg'], dtype=object)"
      ]
     },
     "execution_count": 193,
     "metadata": {},
     "output_type": "execute_result"
    }
   ],
   "source": [
    "path='path/'\n",
    "data_path=df1.image.apply(lambda x: path +x).values\n",
    "data_path"
   ]
  },
  {
   "cell_type": "code",
   "execution_count": 194,
   "id": "77b03f35",
   "metadata": {},
   "outputs": [],
   "source": [
    "data_labels=df1.loc[:, ['normal','PNEUMONIA']].values"
   ]
  },
  {
   "cell_type": "code",
   "execution_count": 195,
   "id": "foster-yukon",
   "metadata": {
    "execution": {
     "iopub.execute_input": "2021-06-02T17:23:31.144389Z",
     "iopub.status.busy": "2021-06-02T17:23:31.143853Z",
     "iopub.status.idle": "2021-06-02T17:23:31.156703Z",
     "shell.execute_reply": "2021-06-02T17:23:31.156262Z",
     "shell.execute_reply.started": "2021-06-02T16:23:15.389218Z"
    },
    "papermill": {
     "duration": 0.039438,
     "end_time": "2021-06-02T17:23:31.156813",
     "exception": false,
     "start_time": "2021-06-02T17:23:31.117375",
     "status": "completed"
    },
    "tags": []
   },
   "outputs": [],
   "source": [
    "train_paths, test_paths, train_labels, test_labels =train_test_split(data_path, data_labels, test_size=0.05, random_state=42)"
   ]
  },
  {
   "cell_type": "code",
   "execution_count": 196,
   "id": "68816088",
   "metadata": {},
   "outputs": [],
   "source": [
    "train_paths, val_paths, train_labels, val_labels =train_test_split(train_paths, train_labels, test_size=0.2, random_state=42)"
   ]
  },
  {
   "cell_type": "code",
   "execution_count": 197,
   "id": "friendly-alberta",
   "metadata": {
    "execution": {
     "iopub.execute_input": "2021-06-02T17:23:31.201727Z",
     "iopub.status.busy": "2021-06-02T17:23:31.200907Z",
     "iopub.status.idle": "2021-06-02T17:23:31.204734Z",
     "shell.execute_reply": "2021-06-02T17:23:31.204308Z",
     "shell.execute_reply.started": "2021-06-02T14:48:14.710588Z"
    },
    "papermill": {
     "duration": 0.02962,
     "end_time": "2021-06-02T17:23:31.204852",
     "exception": false,
     "start_time": "2021-06-02T17:23:31.175232",
     "status": "completed"
    },
    "tags": []
   },
   "outputs": [
    {
     "data": {
      "text/plain": [
       "array(['path/new_data975.jpeg', 'path/new_data177.jpeg',\n",
       "       'path/new_data3030.jpeg', ..., 'path/new_data4984.jpeg',\n",
       "       'path/new_data4775.jpeg', 'path/new_data5026.jpeg'], dtype=object)"
      ]
     },
     "execution_count": 197,
     "metadata": {},
     "output_type": "execute_result"
    }
   ],
   "source": [
    "train_paths"
   ]
  },
  {
   "cell_type": "markdown",
   "id": "dynamic-probability",
   "metadata": {
    "papermill": {
     "duration": 0.019591,
     "end_time": "2021-06-02T17:23:31.670303",
     "exception": false,
     "start_time": "2021-06-02T17:23:31.650712",
     "status": "completed"
    },
    "tags": []
   },
   "source": [
    "# **Image Data Generators**"
   ]
  },
  {
   "cell_type": "code",
   "execution_count": 198,
   "id": "embedded-interaction",
   "metadata": {
    "execution": {
     "iopub.execute_input": "2021-06-02T17:23:31.715240Z",
     "iopub.status.busy": "2021-06-02T17:23:31.714404Z",
     "iopub.status.idle": "2021-06-02T17:23:31.717131Z",
     "shell.execute_reply": "2021-06-02T17:23:31.716718Z",
     "shell.execute_reply.started": "2021-06-02T16:23:54.996528Z"
    },
    "papermill": {
     "duration": 0.026433,
     "end_time": "2021-06-02T17:23:31.717259",
     "exception": false,
     "start_time": "2021-06-02T17:23:31.690826",
     "status": "completed"
    },
    "tags": []
   },
   "outputs": [],
   "source": [
    "\n",
    "IMG_SIZE=224\n",
    "def decode_image(filename, label=None, IMG_SIZE=(IMG_SIZE, IMG_SIZE)):\n",
    "    bits = tf.io.read_file(filename)\n",
    "    image = tf.image.decode_jpeg(bits, channels=3)\n",
    "    image = tf.cast(image, tf.float32) / 255.0\n",
    "    image = tf.image.resize(image, IMG_SIZE)\n",
    "    \n",
    "    if label is None:\n",
    "        return image\n",
    "    else:\n",
    "        return image, label\n",
    "\n",
    "\n",
    "def data_augment(image, label=None):\n",
    "    image = tf.image.random_flip_left_right(image)\n",
    "    image = tf.image.random_flip_up_down(image)\n",
    "    \n",
    "    if label is None:\n",
    "        return image\n",
    "    else:\n",
    "        return image, label"
   ]
  },
  {
   "cell_type": "code",
   "execution_count": 206,
   "id": "happy-fossil",
   "metadata": {
    "execution": {
     "iopub.execute_input": "2021-06-02T17:23:31.774985Z",
     "iopub.status.busy": "2021-06-02T17:23:31.772547Z",
     "iopub.status.idle": "2021-06-02T17:23:43.414449Z",
     "shell.execute_reply": "2021-06-02T17:23:43.414826Z",
     "shell.execute_reply.started": "2021-06-02T16:23:56.52385Z"
    },
    "papermill": {
     "duration": 11.678048,
     "end_time": "2021-06-02T17:23:43.414976",
     "exception": false,
     "start_time": "2021-06-02T17:23:31.736928",
     "status": "completed"
    },
    "tags": []
   },
   "outputs": [],
   "source": [
    "BATCH_SIZE =16\n",
    "\n",
    "train_dataset = (\n",
    "tf.data.Dataset\n",
    "    .from_tensor_slices((train_paths, train_labels))\n",
    "    .map(decode_image, num_parallel_calls=AUTO)\n",
    "    .cache()\n",
    "    .map(data_augment, num_parallel_calls=AUTO)\n",
    "    .repeat()\n",
    "    .shuffle(512)\n",
    "    .batch(BATCH_SIZE)\n",
    "    .prefetch(AUTO)\n",
    ")\n",
    "\n",
    "train_dataset_1 = (\n",
    "    tf.data.Dataset\n",
    "    .from_tensor_slices((train_paths, train_labels))\n",
    "    .map(decode_image, num_parallel_calls=AUTO)\n",
    "    .cache()\n",
    "    .map(data_augment, num_parallel_calls=AUTO)\n",
    "    .repeat()\n",
    "    .shuffle(512)\n",
    "    .batch(16)\n",
    "    .prefetch(AUTO)\n",
    ")\n",
    "\n",
    "\n",
    "valid_dataset = (\n",
    "    tf.data.Dataset\n",
    "    .from_tensor_slices((val_paths, val_labels))\n",
    "    .map(decode_image, num_parallel_calls=AUTO)\n",
    "    .batch(16)\n",
    "    .cache()\n",
    "    .prefetch(AUTO)\n",
    ")\n",
    "\n",
    "\n",
    "test_dataset = (\n",
    "    tf.data.Dataset\n",
    "    .from_tensor_slices((test_paths, test_labels))\n",
    "    .map(decode_image, num_parallel_calls=AUTO)\n",
    "    .map(data_augment, num_parallel_calls=AUTO)\n",
    "    .batch(BATCH_SIZE)\n",
    ")"
   ]
  },
  {
   "cell_type": "markdown",
   "id": "prepared-abuse",
   "metadata": {
    "papermill": {
     "duration": 0.020284,
     "end_time": "2021-06-02T17:23:43.456193",
     "exception": false,
     "start_time": "2021-06-02T17:23:43.435909",
     "status": "completed"
    },
    "tags": []
   },
   "source": [
    "# **Create Model**"
   ]
  },
  {
   "cell_type": "code",
   "execution_count": 201,
   "id": "burning-diamond",
   "metadata": {
    "execution": {
     "iopub.execute_input": "2021-06-02T17:23:43.504543Z",
     "iopub.status.busy": "2021-06-02T17:23:43.503827Z",
     "iopub.status.idle": "2021-06-02T17:23:51.315033Z",
     "shell.execute_reply": "2021-06-02T17:23:51.314565Z",
     "shell.execute_reply.started": "2021-06-02T16:23:59.313698Z"
    },
    "papermill": {
     "duration": 7.838603,
     "end_time": "2021-06-02T17:23:51.315197",
     "exception": false,
     "start_time": "2021-06-02T17:23:43.476594",
     "status": "completed"
    },
    "tags": []
   },
   "outputs": [],
   "source": [
    "base_model = tf.keras.applications.ResNet50V2(include_top=False, input_shape=(224,224,3))"
   ]
  },
  {
   "cell_type": "code",
   "execution_count": 207,
   "id": "inner-victory",
   "metadata": {
    "execution": {
     "iopub.execute_input": "2021-06-02T17:23:51.374693Z",
     "iopub.status.busy": "2021-06-02T17:23:51.373808Z",
     "iopub.status.idle": "2021-06-02T17:23:51.739460Z",
     "shell.execute_reply": "2021-06-02T17:23:51.739006Z",
     "shell.execute_reply.started": "2021-06-02T16:24:01.199495Z"
    },
    "papermill": {
     "duration": 0.400085,
     "end_time": "2021-06-02T17:23:51.739587",
     "exception": false,
     "start_time": "2021-06-02T17:23:51.339502",
     "status": "completed"
    },
    "tags": []
   },
   "outputs": [],
   "source": [
    "model = tf.keras.Sequential([\n",
    "    base_model, \n",
    "    tf.keras.layers.GlobalAveragePooling2D(), \n",
    "    tf.keras.layers.Dense(128, activation='relu'),\n",
    "    tf.keras.layers.BatchNormalization(), \n",
    "    tf.keras.layers.Dropout(0.2), \n",
    "    tf.keras.layers.Dense(2, activation='sigmoid')\n",
    "])"
   ]
  },
  {
   "cell_type": "code",
   "execution_count": 208,
   "id": "located-simpson",
   "metadata": {
    "execution": {
     "iopub.execute_input": "2021-06-02T17:23:51.800636Z",
     "iopub.status.busy": "2021-06-02T17:23:51.799829Z",
     "iopub.status.idle": "2021-06-02T17:23:51.806605Z",
     "shell.execute_reply": "2021-06-02T17:23:51.806021Z",
     "shell.execute_reply.started": "2021-06-02T16:24:07.173302Z"
    },
    "papermill": {
     "duration": 0.042852,
     "end_time": "2021-06-02T17:23:51.806718",
     "exception": false,
     "start_time": "2021-06-02T17:23:51.763866",
     "status": "completed"
    },
    "tags": []
   },
   "outputs": [],
   "source": [
    "lr=0.0001\n",
    "model.compile(loss='categorical_crossentropy', optimizer=Adam(lr=lr), metrics=['accuracy'])"
   ]
  },
  {
   "cell_type": "markdown",
   "id": "ordinary-injury",
   "metadata": {
    "papermill": {
     "duration": 0.024103,
     "end_time": "2021-06-02T17:23:51.960903",
     "exception": false,
     "start_time": "2021-06-02T17:23:51.936800",
     "status": "completed"
    },
    "tags": []
   },
   "source": [
    "# **Model Training**"
   ]
  },
  {
   "cell_type": "code",
   "execution_count": 209,
   "id": "purple-stuff",
   "metadata": {
    "execution": {
     "iopub.execute_input": "2021-06-02T17:23:52.015658Z",
     "iopub.status.busy": "2021-06-02T17:23:52.015060Z",
     "iopub.status.idle": "2021-06-02T18:11:10.718382Z",
     "shell.execute_reply": "2021-06-02T18:11:10.717676Z",
     "shell.execute_reply.started": "2021-06-02T15:26:49.178563Z"
    },
    "papermill": {
     "duration": 2838.732063,
     "end_time": "2021-06-02T18:11:10.718575",
     "exception": false,
     "start_time": "2021-06-02T17:23:51.986512",
     "status": "completed"
    },
    "scrolled": false,
    "tags": []
   },
   "outputs": [
    {
     "name": "stdout",
     "output_type": "stream",
     "text": [
      "Epoch 1/30\n",
      "197/197 [==============================] - 1113s 6s/step - loss: 0.2397 - accuracy: 0.9099 - val_loss: 0.2376 - val_accuracy: 0.8920\n",
      "Epoch 2/30\n",
      "197/197 [==============================] - 1153s 6s/step - loss: 0.1776 - accuracy: 0.9397 - val_loss: 0.2742 - val_accuracy: 0.8804\n",
      "Epoch 3/30\n",
      "197/197 [==============================] - 1144s 6s/step - loss: 0.1092 - accuracy: 0.9622 - val_loss: 0.1801 - val_accuracy: 0.9302\n",
      "Epoch 4/30\n",
      "197/197 [==============================] - 1035s 5s/step - loss: 0.1196 - accuracy: 0.9569 - val_loss: 0.1652 - val_accuracy: 0.9402\n",
      "Epoch 5/30\n",
      "197/197 [==============================] - 1065s 5s/step - loss: 0.0935 - accuracy: 0.9641 - val_loss: 0.1331 - val_accuracy: 0.9502\n",
      "Epoch 6/30\n",
      "197/197 [==============================] - 1058s 5s/step - loss: 0.0705 - accuracy: 0.9765 - val_loss: 0.1567 - val_accuracy: 0.9502\n",
      "Epoch 7/30\n",
      "197/197 [==============================] - 1056s 5s/step - loss: 0.0805 - accuracy: 0.9721 - val_loss: 0.0958 - val_accuracy: 0.9618\n",
      "Epoch 8/30\n",
      "197/197 [==============================] - 1051s 5s/step - loss: 0.0487 - accuracy: 0.9841 - val_loss: 0.0998 - val_accuracy: 0.9651\n",
      "Epoch 9/30\n",
      "197/197 [==============================] - 1053s 5s/step - loss: 0.0526 - accuracy: 0.9822 - val_loss: 0.0910 - val_accuracy: 0.9635\n",
      "Epoch 10/30\n",
      "197/197 [==============================] - 1051s 5s/step - loss: 0.0504 - accuracy: 0.9829 - val_loss: 0.1392 - val_accuracy: 0.9585\n",
      "Epoch 11/30\n",
      "197/197 [==============================] - 1053s 5s/step - loss: 0.0518 - accuracy: 0.9829 - val_loss: 0.1248 - val_accuracy: 0.9502\n",
      "Epoch 12/30\n",
      "197/197 [==============================] - 1054s 5s/step - loss: 0.0417 - accuracy: 0.9854 - val_loss: 0.0861 - val_accuracy: 0.9635\n",
      "Epoch 13/30\n",
      "197/197 [==============================] - 1051s 5s/step - loss: 0.0350 - accuracy: 0.9886 - val_loss: 0.1699 - val_accuracy: 0.9402\n",
      "Epoch 14/30\n",
      "197/197 [==============================] - 1050s 5s/step - loss: 0.0397 - accuracy: 0.9857 - val_loss: 0.0770 - val_accuracy: 0.9684\n",
      "Epoch 15/30\n",
      "197/197 [==============================] - 1054s 5s/step - loss: 0.0351 - accuracy: 0.9883 - val_loss: 0.1012 - val_accuracy: 0.9651\n",
      "Epoch 16/30\n",
      "197/197 [==============================] - 1051s 5s/step - loss: 0.0241 - accuracy: 0.9937 - val_loss: 1.0558 - val_accuracy: 0.7193\n",
      "Epoch 17/30\n",
      "197/197 [==============================] - 1050s 5s/step - loss: 0.0290 - accuracy: 0.9911 - val_loss: 0.1017 - val_accuracy: 0.9684\n",
      "Epoch 18/30\n",
      "197/197 [==============================] - 1052s 5s/step - loss: 0.0243 - accuracy: 0.9921 - val_loss: 0.2556 - val_accuracy: 0.9219\n",
      "Epoch 19/30\n",
      "197/197 [==============================] - 1051s 5s/step - loss: 0.0258 - accuracy: 0.9905 - val_loss: 0.1076 - val_accuracy: 0.9651\n",
      "Epoch 20/30\n",
      "197/197 [==============================] - 1051s 5s/step - loss: 0.0427 - accuracy: 0.9826 - val_loss: 0.0710 - val_accuracy: 0.9784\n",
      "Epoch 21/30\n",
      "197/197 [==============================] - 1052s 5s/step - loss: 0.0236 - accuracy: 0.9914 - val_loss: 0.1001 - val_accuracy: 0.9668\n",
      "Epoch 22/30\n",
      "197/197 [==============================] - 1079s 5s/step - loss: 0.0177 - accuracy: 0.9940 - val_loss: 0.1177 - val_accuracy: 0.9651\n",
      "Epoch 23/30\n",
      "197/197 [==============================] - 1185s 6s/step - loss: 0.0224 - accuracy: 0.9933 - val_loss: 0.1024 - val_accuracy: 0.9718\n",
      "Epoch 24/30\n",
      "197/197 [==============================] - 1214s 6s/step - loss: 0.0109 - accuracy: 0.9978 - val_loss: 0.0713 - val_accuracy: 0.9801\n",
      "Epoch 25/30\n",
      "197/197 [==============================] - 1301s 7s/step - loss: 0.0309 - accuracy: 0.9924 - val_loss: 0.1817 - val_accuracy: 0.9585\n",
      "Epoch 26/30\n",
      "197/197 [==============================] - 1368s 7s/step - loss: 0.0387 - accuracy: 0.9889 - val_loss: 0.3359 - val_accuracy: 0.8771\n",
      "Epoch 27/30\n",
      "197/197 [==============================] - 1278s 6s/step - loss: 0.0204 - accuracy: 0.9933 - val_loss: 0.1116 - val_accuracy: 0.9618\n",
      "Epoch 28/30\n",
      "197/197 [==============================] - 1245s 6s/step - loss: 0.0123 - accuracy: 0.9962 - val_loss: 0.4832 - val_accuracy: 0.8638\n",
      "Epoch 29/30\n",
      "197/197 [==============================] - 2194s 11s/step - loss: 0.0284 - accuracy: 0.9898 - val_loss: 0.1538 - val_accuracy: 0.9518\n",
      "Epoch 30/30\n",
      "197/197 [==============================] - 7521s 38s/step - loss: 0.0223 - accuracy: 0.9937 - val_loss: 0.0809 - val_accuracy: 0.9701\n"
     ]
    }
   ],
   "source": [
    "\n",
    "history=model.fit(\n",
    "    train_dataset,\n",
    "    steps_per_epoch=data_labels.shape[0] // 16,\n",
    "    epochs=30,\n",
    "    validation_data=valid_dataset\n",
    "    )"
   ]
  },
  {
   "cell_type": "code",
   "execution_count": 210,
   "id": "prime-silly",
   "metadata": {
    "execution": {
     "iopub.execute_input": "2021-06-02T18:11:11.323883Z",
     "iopub.status.busy": "2021-06-02T18:11:11.323022Z",
     "iopub.status.idle": "2021-06-02T18:11:11.614379Z",
     "shell.execute_reply": "2021-06-02T18:11:11.613614Z",
     "shell.execute_reply.started": "2021-06-02T15:56:29.435836Z"
    },
    "papermill": {
     "duration": 0.59724,
     "end_time": "2021-06-02T18:11:11.614500",
     "exception": false,
     "start_time": "2021-06-02T18:11:11.017260",
     "status": "completed"
    },
    "scrolled": false,
    "tags": []
   },
   "outputs": [
    {
     "data": {
      "image/png": "[encoded data removed]",
      "text/plain": [
       "<Figure size 432x288 with 1 Axes>"
      ]
     },
     "metadata": {
      "needs_background": "light"
     },
     "output_type": "display_data"
    },
    {
     "data": {
      "image/png": "[encoded data removed]",
      "text/plain": [
       "<Figure size 432x288 with 1 Axes>"
      ]
     },
     "metadata": {
      "needs_background": "light"
     },
     "output_type": "display_data"
    }
   ],
   "source": [
    "plt.plot(history.history['loss'], label='Loss (training data)')\n",
    "plt.plot(history.history['val_loss'], label='Loss (validation data)')\n",
    "plt.title('Loss for Training')\n",
    "plt.ylabel('Loss')\n",
    "plt.xlabel('No. epoch')\n",
    "plt.legend(['train', 'validation'], loc=\"upper left\")\n",
    "plt.show()\n",
    "plt.plot(history.history['accuracy']) \n",
    "plt.plot(history.history['val_accuracy'])\n",
    "plt.title('model accuracy')\n",
    "plt.ylabel('accuracy')\n",
    "plt.xlabel('epoch')\n",
    "plt.legend(['train', 'validation'], loc='upper left')\n",
    "plt.show()"
   ]
  },
  {
   "cell_type": "code",
   "execution_count": 161,
   "id": "84f3f4b3",
   "metadata": {},
   "outputs": [
    {
     "data": {
      "text/plain": [
       "[0.1370844542980194, 0.9496855139732361]"
      ]
     },
     "execution_count": 161,
     "metadata": {},
     "output_type": "execute_result"
    }
   ],
   "source": [
    "results"
   ]
  },
  {
   "cell_type": "markdown",
   "id": "announced-toyota",
   "metadata": {
    "papermill": {
     "duration": 0.298555,
     "end_time": "2021-06-02T18:11:12.213570",
     "exception": false,
     "start_time": "2021-06-02T18:11:11.915015",
     "status": "completed"
    },
    "tags": []
   },
   "source": [
    "# **Predictions on Test Set**"
   ]
  },
  {
   "cell_type": "code",
   "execution_count": 211,
   "id": "developed-assets",
   "metadata": {
    "execution": {
     "iopub.execute_input": "2021-06-02T18:11:12.860738Z",
     "iopub.status.busy": "2021-06-02T18:11:12.849163Z",
     "iopub.status.idle": "2021-06-02T18:11:57.431282Z",
     "shell.execute_reply": "2021-06-02T18:11:57.432279Z",
     "shell.execute_reply.started": "2021-06-02T16:25:21.412038Z"
    },
    "papermill": {
     "duration": 44.920232,
     "end_time": "2021-06-02T18:11:57.432460",
     "exception": false,
     "start_time": "2021-06-02T18:11:12.512228",
     "status": "completed"
    },
    "scrolled": true,
    "tags": []
   },
   "outputs": [
    {
     "name": "stdout",
     "output_type": "stream",
     "text": [
      "Evaluate on test data\n",
      "10/10 [==============================] - 10s 1s/step - loss: 0.0635 - accuracy: 0.9748\n",
      "test loss, test acc: [0.06350849568843842, 0.9748427867889404]\n"
     ]
    }
   ],
   "source": [
    "print(\"Evaluate on test data\")\n",
    "results = model.evaluate(test_dataset, batch_size=16)\n",
    "print(\"test loss, test acc:\", results)"
   ]
  }
 ],
 "metadata": {
  "kernelspec": {
   "display_name": "Python 3 (ipykernel)",
   "language": "python",
   "name": "python3"
  },
  "language_info": {
   "codemirror_mode": {
    "name": "ipython",
    "version": 3
   },
   "file_extension": ".py",
   "mimetype": "text/x-python",
   "name": "python",
   "nbconvert_exporter": "python",
   "pygments_lexer": "ipython3",
   "version": "3.8.8"
  },
  "papermill": {
   "default_parameters": {},
   "duration": 2922.596364,
   "end_time": "2021-06-02T18:12:00.705043",
   "environment_variables": {},
   "exception": null,
   "input_path": "__notebook__.ipynb",
   "output_path": "__notebook__.ipynb",
   "parameters": {},
   "start_time": "2021-06-02T17:23:18.108679",
   "version": "2.3.3"
  }
 },
 "nbformat": 4,
 "nbformat_minor": 5
}
